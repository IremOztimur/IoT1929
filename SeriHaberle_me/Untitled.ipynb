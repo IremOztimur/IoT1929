{
 "cells": [
  {
   "cell_type": "code",
   "execution_count": null,
   "metadata": {},
   "outputs": [
    {
     "name": "stdout",
     "output_type": "stream",
     "text": [
      "Sifre Giriniz : 14\n",
      "b'Hatali Sifre\\r\\n'\n",
      "Sifre Giriniz : 785412\n",
      "b'Hatali Sifre\\r\\n'\n",
      "Sifre Giriniz : 1929\n",
      "b'Sinyal Alindi\\r\\n'\n"
     ]
    }
   ],
   "source": [
    "import serial\n",
    "import time\n",
    "import requests\n",
    "arduino1 = serial.Serial('COM12',9600)\n",
    "try:\n",
    "    while True:\n",
    "        sifre = input(\"Sifre Giriniz : \")\n",
    "        gidecekVeri = sifre.encode()\n",
    "        arduino1.write(gidecekVeri)\n",
    "        time.sleep(2)\n",
    "        data = arduino1.readline()\n",
    "        print(data)\n",
    "except KeyboardInterrupt:\n",
    "    arduino1.close()"
   ]
  },
  {
   "cell_type": "code",
   "execution_count": null,
   "metadata": {},
   "outputs": [],
   "source": []
  }
 ],
 "metadata": {
  "kernelspec": {
   "display_name": "Python 3",
   "language": "python",
   "name": "python3"
  },
  "language_info": {
   "codemirror_mode": {
    "name": "ipython",
    "version": 3
   },
   "file_extension": ".py",
   "mimetype": "text/x-python",
   "name": "python",
   "nbconvert_exporter": "python",
   "pygments_lexer": "ipython3",
   "version": "3.6.12"
  }
 },
 "nbformat": 4,
 "nbformat_minor": 4
}
